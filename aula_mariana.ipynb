{
 "cells": [
  {
   "cell_type": "code",
   "execution_count": 37,
   "metadata": {},
   "outputs": [
    {
     "name": "stdout",
     "output_type": "stream",
     "text": [
      "5 patinhos foram passear, além da montanha para brincar. A mamãe gritou 'QUA QUA QUA QUA' mas só 4 patinhos voltaram de lá\n",
      "4 patinhos foram passear, além da montanha para brincar. A mamãe gritou 'QUA QUA QUA QUA' mas só 3 patinhos voltaram de lá\n",
      "3 patinhos foram passear, além da montanha para brincar. A mamãe gritou 'QUA QUA QUA QUA' mas só 2 patinhos voltaram de lá\n",
      "2 patinhos foram passear, além da montanha para brincar. A mamãe gritou 'QUA QUA QUA QUA' mas só 1 patinhos voltaram de lá\n",
      "1 foram passear, além da montanha para brincar. A mamãe gritou 'QUA QUA QUA QUA' mas nenhum patinho voltou de lá\n"
     ]
    }
   ],
   "source": [
    "patinhos = [5,4,3,2,1]\n",
    "for cadaPatinho in patinhos:\n",
    "    if cadaPatinho == 1: print (\"1 foram passear, além da montanha para brincar. A mamãe gritou 'QUA QUA QUA QUA' mas nenhum patinho voltou de lá\")\n",
    "    else: print(cadaPatinho, \"patinhos foram passear, além da montanha para brincar. A mamãe gritou 'QUA QUA QUA QUA' mas só\", cadaPatinho-1, \"patinhos voltaram de lá\")"
   ]
  },
  {
   "cell_type": "code",
   "execution_count": 8,
   "metadata": {},
   "outputs": [
    {
     "name": "stdout",
     "output_type": "stream",
     "text": [
      "Mariana conta 1\n",
      "Mariana conta 2\n"
     ]
    }
   ],
   "source": [
    "mariana1 = \"Mariana conta 1\"\n",
    "mariana11 = \"Mariana conta 1, é 1 é 1\"\n",
    "mariana2 = \"Mariana conta 2\"\n",
    "mariana12 = \"Mariana conta 2, é 1 é 2\"\n",
    "mariana3 = \"Mariana conta 3\"\n",
    "mariana123 = \"Mariana conta 3, é 1 é 2 é 3\"\n",
    "mariana4 = \"Mariana conta 4\"\n",
    "mariana1234 = \"Mariana conta 4, é 1 é 2 é 3 é 4\"\n",
    "mariana5 = \"Mariana conta 5\"\n",
    "mariana12345 = \"Mariana conta 5, é 1 é 2 é 3 é 4 é 5\"\n",
    "\n",
    "print (mariana1)\n",
    "print (mariana2)\n"
   ]
  },
  {
   "cell_type": "code",
   "execution_count": 2,
   "metadata": {},
   "outputs": [
    {
     "name": "stdout",
     "output_type": "stream",
     "text": [
      "Mariana conta 1 Mariana conta 1 é ana, viva a mariana\n",
      "Mariana conta 2 Mariana conta [1, 2] é ana, viva a mariana\n",
      "Mariana conta 3 Mariana conta [1, 2, 3] é ana, viva a mariana\n",
      "Mariana conta 4 Mariana conta [1, 2, 3, 4] é ana, viva a mariana\n",
      "Mariana conta 5 Mariana conta [1, 2, 3, 4, 5] é ana, viva a mariana\n",
      "Mariana conta 6 Mariana conta [1, 2, 3, 4, 5, 6] é ana, viva a mariana\n",
      "Mariana conta 7 Mariana conta [1, 2, 3, 4, 5, 6, 7] é ana, viva a mariana\n",
      "Mariana conta 8 Mariana conta [1, 2, 3, 4, 5, 6, 7, 8] é ana, viva a mariana\n",
      "Mariana conta 9 Mariana conta [1, 2, 3, 4, 5, 6, 7, 8, 9] é ana, viva a mariana\n",
      "Mariana conta 10 Mariana conta [1, 2, 3, 4, 5, 6, 7, 8, 9, 10] é ana, viva a mariana\n"
     ]
    }
   ],
   "source": [
    "marianaConta = [1,2,3,4,5,6,7,8,9,10]\n",
    "n= 1\n",
    "for n in marianaConta:\n",
    "    if n ==1:\n",
    "        print(\"Mariana conta\", (n), \"Mariana conta\", (n), \"é ana, viva a mariana\")\n",
    "    else:\n",
    "        print(f\"Mariana conta\", (n), \"Mariana conta\", marianaConta[0:n], \"é ana, viva a mariana\")"
   ]
  },
  {
   "cell_type": "code",
   "execution_count": null,
   "metadata": {},
   "outputs": [],
   "source": [
    "marianaConta = \"mariana conta é , é \"\n",
    "for n in [1,2,3,4,5,6,7,8,9,10]\n",
    "print(\"Mariana conta \")\n"
   ]
  },
  {
   "cell_type": "code",
   "execution_count": 4,
   "metadata": {},
   "outputs": [
    {
     "name": "stdout",
     "output_type": "stream",
     "text": [
      "1 Elefante incomoda muita gente\n",
      "2 elefantes incomodam,incomodam, Muito mais\n",
      "3 Elefantes incomodam muita gente\n",
      "4 elefantes incomodam,incomodam,incomodam,incomodam, Muito mais\n",
      "5 Elefantes incomodam muita gente\n",
      "6 elefantes incomodam,incomodam,incomodam,incomodam,incomodam,incomodam, Muito mais\n",
      "7 Elefantes incomodam muita gente\n",
      "8 elefantes incomodam,incomodam,incomodam,incomodam,incomodam,incomodam,incomodam,incomodam, Muito mais\n",
      "9 Elefantes incomodam muita gente\n",
      "10 elefantes incomodam,incomodam,incomodam,incomodam,incomodam,incomodam,incomodam,incomodam,incomodam,incomodam, Muito mais\n"
     ]
    }
   ],
   "source": [
    "incomadam = \"incomodam,\"\n",
    "for n in [1,2,3,4,5,6,7,8,9,10]:\n",
    "    if n == 1: print(n, \"Elefante incomoda muita gente\")\n",
    "    elif n % 2 == 0: print(n,\"elefantes\", incomadam * n , \"Muito mais\")\n",
    "    else: print(n, \"Elefantes incomodam muita gente\")\n"
   ]
  }
 ],
 "metadata": {
  "kernelspec": {
   "display_name": "Python 3",
   "language": "python",
   "name": "python3"
  },
  "language_info": {
   "codemirror_mode": {
    "name": "ipython",
    "version": 3
   },
   "file_extension": ".py",
   "mimetype": "text/x-python",
   "name": "python",
   "nbconvert_exporter": "python",
   "pygments_lexer": "ipython3",
   "version": "3.11.9"
  }
 },
 "nbformat": 4,
 "nbformat_minor": 2
}
